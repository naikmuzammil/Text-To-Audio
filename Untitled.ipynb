{
 "cells": [
  {
   "cell_type": "code",
   "execution_count": 1,
   "metadata": {},
   "outputs": [
    {
     "name": "stdout",
     "output_type": "stream",
     "text": [
      "Requirement already satisfied: pyttsx3 in c:\\users\\naikm\\anaconda3\\lib\\site-packages (2.90)\n",
      "Requirement already satisfied: comtypes; platform_system == \"Windows\" in c:\\users\\naikm\\anaconda3\\lib\\site-packages (from pyttsx3) (1.1.7)\n",
      "Requirement already satisfied: pypiwin32; platform_system == \"Windows\" in c:\\users\\naikm\\anaconda3\\lib\\site-packages (from pyttsx3) (223)Note: you may need to restart the kernel to use updated packages.\n",
      "Requirement already satisfied: pywin32; platform_system == \"Windows\" in c:\\users\\naikm\\anaconda3\\lib\\site-packages (from pyttsx3) (227)\n",
      "\n"
     ]
    }
   ],
   "source": [
    "pip install pyttsx3"
   ]
  },
  {
   "cell_type": "code",
   "execution_count": 2,
   "metadata": {},
   "outputs": [
    {
     "name": "stdout",
     "output_type": "stream",
     "text": [
      "Enter the text that you want to listen in audio :\n",
      "hey everyone\n"
     ]
    }
   ],
   "source": [
    "import pyttsx3\n",
    "text_speech = pyttsx3.init()\n",
    "answer = input(str(\"Enter the text that you want to listen in audio :\\n\"))\n",
    "text_speech.setProperty(\"rate\",120)\n",
    "text_speech.setProperty(\"rate\",120)\n",
    "text_speech.setProperty(\"volume\",1)\n",
    "text_speech.say(answer)\n",
    "text_speech.runAndWait()"
   ]
  },
  {
   "cell_type": "code",
   "execution_count": null,
   "metadata": {},
   "outputs": [],
   "source": []
  }
 ],
 "metadata": {
  "kernelspec": {
   "display_name": "Python 3",
   "language": "python",
   "name": "python3"
  },
  "language_info": {
   "codemirror_mode": {
    "name": "ipython",
    "version": 3
   },
   "file_extension": ".py",
   "mimetype": "text/x-python",
   "name": "python",
   "nbconvert_exporter": "python",
   "pygments_lexer": "ipython3",
   "version": "3.8.5"
  }
 },
 "nbformat": 4,
 "nbformat_minor": 4
}
