{
 "cells": [
  {
   "cell_type": "code",
   "execution_count": 1,
   "metadata": {},
   "outputs": [
    {
     "name": "stdout",
     "output_type": "stream",
     "text": [
      "Requirement already satisfied: gtts in c:\\users\\naikm\\anaconda3\\lib\\site-packages (2.2.3)\n",
      "Requirement already satisfied: requests in c:\\users\\naikm\\anaconda3\\lib\\site-packages (from gtts) (2.24.0)\n",
      "Requirement already satisfied: click in c:\\users\\naikm\\anaconda3\\lib\\site-packages (from gtts) (7.1.2)\n",
      "Requirement already satisfied: six in c:\\users\\naikm\\anaconda3\\lib\\site-packages (from gtts) (1.15.0)\n",
      "Requirement already satisfied: idna<3,>=2.5 in c:\\users\\naikm\\anaconda3\\lib\\site-packages (from requests->gtts) (2.10)\n",
      "Requirement already satisfied: chardet<4,>=3.0.2 in c:\\users\\naikm\\anaconda3\\lib\\site-packages (from requests->gtts) (3.0.4)\n",
      "Requirement already satisfied: urllib3!=1.25.0,!=1.25.1,<1.26,>=1.21.1 in c:\\users\\naikm\\anaconda3\\lib\\site-packages (from requests->gtts) (1.25.11)\n",
      "Requirement already satisfied: certifi>=2017.4.17 in c:\\users\\naikm\\anaconda3\\lib\\site-packages (from requests->gtts) (2020.6.20)\n",
      "Note: you may need to restart the kernel to use updated packages.\n"
     ]
    }
   ],
   "source": [
    "pip install gtts"
   ]
  },
  {
   "cell_type": "code",
   "execution_count": 6,
   "metadata": {},
   "outputs": [
    {
     "name": "stdout",
     "output_type": "stream",
     "text": [
      "Enter the text that to be converted into audio: muzammil how are you\n"
     ]
    },
    {
     "data": {
      "text/plain": [
       "1"
      ]
     },
     "execution_count": 6,
     "metadata": {},
     "output_type": "execute_result"
    }
   ],
   "source": [
    "#program to text to audio file\n",
    "\n",
    "from gtts import gTTS\n",
    "import os\n",
    "myText = input(\"Enter the text that to be converted into audio: \")\n",
    "language = 'en'\n",
    "output = gTTS(text = myText, lang = language, slow = False)\n",
    "output.save(\"output11.mp3\")\n",
    "os.system(\"start output.mp3\")"
   ]
  },
  {
   "cell_type": "code",
   "execution_count": 3,
   "metadata": {},
   "outputs": [],
   "source": [
    "#program to convert text file to audio file\n",
    "\n",
    "from gtts import gTTS\n",
    "with open(\"C:\\\\Users\\\\naikm\\\\Desktop\\\\sample.txt\", encoding = \"utf-8\") as file:\n",
    "    file = file.read()\n",
    "speak = gTTS(file,lang='en')\n",
    "speak.save(\"audio_new11.mp4\")"
   ]
  },
  {
   "cell_type": "code",
   "execution_count": null,
   "metadata": {},
   "outputs": [],
   "source": []
  }
 ],
 "metadata": {
  "kernelspec": {
   "display_name": "Python 3",
   "language": "python",
   "name": "python3"
  },
  "language_info": {
   "codemirror_mode": {
    "name": "ipython",
    "version": 3
   },
   "file_extension": ".py",
   "mimetype": "text/x-python",
   "name": "python",
   "nbconvert_exporter": "python",
   "pygments_lexer": "ipython3",
   "version": "3.8.5"
  }
 },
 "nbformat": 4,
 "nbformat_minor": 4
}
